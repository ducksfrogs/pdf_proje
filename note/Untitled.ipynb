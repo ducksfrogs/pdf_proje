{
 "cells": [
  {
   "cell_type": "code",
   "execution_count": 1,
   "id": "9a0e0198",
   "metadata": {},
   "outputs": [],
   "source": [
    "import PyPDF2 as pd\n",
    "import glob"
   ]
  },
  {
   "cell_type": "code",
   "execution_count": 2,
   "id": "22c27857",
   "metadata": {},
   "outputs": [],
   "source": [
    "arr = glob.glob('../src/*.pdf')"
   ]
  },
  {
   "cell_type": "code",
   "execution_count": 3,
   "id": "f5873968",
   "metadata": {},
   "outputs": [
    {
     "data": {
      "text/plain": [
       "['../src/dummy4.pdf',\n",
       " '../src/dummy6.pdf',\n",
       " '../src/dummy2.pdf',\n",
       " '../src/dummy7.pdf',\n",
       " '../src/dummy5.pdf',\n",
       " '../src/dummy.pdf',\n",
       " '../src/dummy3.pdf',\n",
       " '../src/dummy1.pdf']"
      ]
     },
     "execution_count": 3,
     "metadata": {},
     "output_type": "execute_result"
    }
   ],
   "source": [
    "arr"
   ]
  },
  {
   "cell_type": "code",
   "execution_count": 4,
   "id": "e437a798",
   "metadata": {},
   "outputs": [],
   "source": [
    "arr.sort()"
   ]
  },
  {
   "cell_type": "code",
   "execution_count": 5,
   "id": "05db6e34",
   "metadata": {},
   "outputs": [
    {
     "data": {
      "text/plain": [
       "['../src/dummy.pdf',\n",
       " '../src/dummy1.pdf',\n",
       " '../src/dummy2.pdf',\n",
       " '../src/dummy3.pdf',\n",
       " '../src/dummy4.pdf',\n",
       " '../src/dummy5.pdf',\n",
       " '../src/dummy6.pdf',\n",
       " '../src/dummy7.pdf']"
      ]
     },
     "execution_count": 5,
     "metadata": {},
     "output_type": "execute_result"
    }
   ],
   "source": [
    "arr"
   ]
  },
  {
   "cell_type": "code",
   "execution_count": 17,
   "id": "0b94afcc",
   "metadata": {},
   "outputs": [],
   "source": [
    "it = iter(arr)"
   ]
  },
  {
   "cell_type": "code",
   "execution_count": 10,
   "id": "cdd45490",
   "metadata": {},
   "outputs": [],
   "source": [
    "nitr = int(len(arr)/2)\n"
   ]
  },
  {
   "cell_type": "code",
   "execution_count": 11,
   "id": "171dd149",
   "metadata": {},
   "outputs": [],
   "source": [
    "for i, j, k in zip(range(nitr), it, it):\n",
    "    merger = pd.PdfMerger()\n",
    "    merger.append(j)\n",
    "    merger.append(k)\n",
    "    merger.write(f'test{i}.pdf')\n",
    "    merger.close()"
   ]
  },
  {
   "cell_type": "code",
   "execution_count": 12,
   "id": "743258ba",
   "metadata": {},
   "outputs": [],
   "source": [
    "import shutil"
   ]
  },
  {
   "cell_type": "code",
   "execution_count": 18,
   "id": "cb49056f",
   "metadata": {},
   "outputs": [],
   "source": [
    "for i, j, k in zip(range(nitr), it, it):\n",
    "    merger = pd.PdfMerger()\n",
    "    merger.append(j)\n",
    "    merger.append(k)\n",
    "    merger.write(f'test{i}.pdf')\n",
    "    merger.close()\n",
    "    shutil.move(f'test{i}.pdf', '../dist/')"
   ]
  },
  {
   "cell_type": "code",
   "execution_count": 25,
   "id": "778cbdf6",
   "metadata": {},
   "outputs": [
    {
     "data": {
      "text/plain": [
       "8"
      ]
     },
     "execution_count": 25,
     "metadata": {},
     "output_type": "execute_result"
    }
   ],
   "source": [
    "len(arr)"
   ]
  },
  {
   "cell_type": "code",
   "execution_count": null,
   "id": "a268bc53",
   "metadata": {},
   "outputs": [],
   "source": []
  }
 ],
 "metadata": {
  "kernelspec": {
   "display_name": "Python 3 (ipykernel)",
   "language": "python",
   "name": "python3"
  },
  "language_info": {
   "codemirror_mode": {
    "name": "ipython",
    "version": 3
   },
   "file_extension": ".py",
   "mimetype": "text/x-python",
   "name": "python",
   "nbconvert_exporter": "python",
   "pygments_lexer": "ipython3",
   "version": "3.9.12"
  }
 },
 "nbformat": 4,
 "nbformat_minor": 5
}
