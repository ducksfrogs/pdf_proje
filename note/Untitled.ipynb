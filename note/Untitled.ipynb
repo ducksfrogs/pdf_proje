{
 "cells": [
  {
   "cell_type": "code",
   "execution_count": 1,
   "id": "9a0e0198",
   "metadata": {},
   "outputs": [],
   "source": [
    "import PyPDF2 as pd\n",
    "import glob"
   ]
  },
  {
   "cell_type": "code",
   "execution_count": 3,
   "id": "22c27857",
   "metadata": {},
   "outputs": [],
   "source": [
    "arr = glob.glob('../src/*.pdf')"
   ]
  },
  {
   "cell_type": "code",
   "execution_count": 4,
   "id": "f5873968",
   "metadata": {},
   "outputs": [
    {
     "data": {
      "text/plain": [
       "['../src/dummy4.pdf',\n",
       " '../src/dummy6.pdf',\n",
       " '../src/dummy2.pdf',\n",
       " '../src/dummy7.pdf',\n",
       " '../src/dummy5.pdf',\n",
       " '../src/dummy.pdf',\n",
       " '../src/dummy3.pdf',\n",
       " '../src/dummy1.pdf']"
      ]
     },
     "execution_count": 4,
     "metadata": {},
     "output_type": "execute_result"
    }
   ],
   "source": [
    "arr"
   ]
  },
  {
   "cell_type": "code",
   "execution_count": 6,
   "id": "e437a798",
   "metadata": {},
   "outputs": [],
   "source": [
    "arr.sort()"
   ]
  },
  {
   "cell_type": "code",
   "execution_count": 7,
   "id": "05db6e34",
   "metadata": {},
   "outputs": [
    {
     "data": {
      "text/plain": [
       "['../src/dummy.pdf',\n",
       " '../src/dummy1.pdf',\n",
       " '../src/dummy2.pdf',\n",
       " '../src/dummy3.pdf',\n",
       " '../src/dummy4.pdf',\n",
       " '../src/dummy5.pdf',\n",
       " '../src/dummy6.pdf',\n",
       " '../src/dummy7.pdf']"
      ]
     },
     "execution_count": 7,
     "metadata": {},
     "output_type": "execute_result"
    }
   ],
   "source": [
    "arr"
   ]
  },
  {
   "cell_type": "code",
   "execution_count": 16,
   "id": "0b94afcc",
   "metadata": {},
   "outputs": [],
   "source": [
    "it = iter(arr)"
   ]
  },
  {
   "cell_type": "code",
   "execution_count": 9,
   "id": "cdd45490",
   "metadata": {},
   "outputs": [
    {
     "data": {
      "text/plain": [
       "<list_iterator at 0x7f5a284e4070>"
      ]
     },
     "execution_count": 9,
     "metadata": {},
     "output_type": "execute_result"
    }
   ],
   "source": [
    "it"
   ]
  },
  {
   "cell_type": "code",
   "execution_count": 26,
   "id": "171dd149",
   "metadata": {},
   "outputs": [
    {
     "ename": "TypeError",
     "evalue": "object of type 'int' has no len()",
     "output_type": "error",
     "traceback": [
      "\u001b[0;31m---------------------------------------------------------------------------\u001b[0m",
      "\u001b[0;31mTypeError\u001b[0m                                 Traceback (most recent call last)",
      "Input \u001b[0;32mIn [26]\u001b[0m, in \u001b[0;36m<cell line: 1>\u001b[0;34m()\u001b[0m\n\u001b[0;32m----> 1\u001b[0m \u001b[38;5;28;01mfor\u001b[39;00m i, j, k \u001b[38;5;129;01min\u001b[39;00m \u001b[38;5;28mzip\u001b[39m(\u001b[38;5;28;43mlen\u001b[39;49m\u001b[43m(\u001b[49m\u001b[38;5;241;43m4\u001b[39;49m\u001b[43m)\u001b[49m, it, it):\n\u001b[1;32m      2\u001b[0m     merger \u001b[38;5;241m=\u001b[39m pd\u001b[38;5;241m.\u001b[39mPdfMerger()\n\u001b[1;32m      3\u001b[0m     merger\u001b[38;5;241m.\u001b[39mappend(j)\n",
      "\u001b[0;31mTypeError\u001b[0m: object of type 'int' has no len()"
     ]
    }
   ],
   "source": [
    "for i, j, k in zip(len(4), it, it):\n",
    "    merger = pd.PdfMerger()\n",
    "    merger.append(j)\n",
    "    merger.append(k)\n",
    "    merger.write(f'test{i}.pdf')\n",
    "    merger.close()"
   ]
  },
  {
   "cell_type": "code",
   "execution_count": 13,
   "id": "743258ba",
   "metadata": {},
   "outputs": [
    {
     "data": {
      "text/plain": [
       "'../src/dummy3.pdf'"
      ]
     },
     "execution_count": 13,
     "metadata": {},
     "output_type": "execute_result"
    }
   ],
   "source": [
    "next(it)"
   ]
  },
  {
   "cell_type": "code",
   "execution_count": 25,
   "id": "778cbdf6",
   "metadata": {},
   "outputs": [
    {
     "data": {
      "text/plain": [
       "8"
      ]
     },
     "execution_count": 25,
     "metadata": {},
     "output_type": "execute_result"
    }
   ],
   "source": [
    "len(arr)"
   ]
  },
  {
   "cell_type": "code",
   "execution_count": null,
   "id": "a268bc53",
   "metadata": {},
   "outputs": [],
   "source": []
  }
 ],
 "metadata": {
  "kernelspec": {
   "display_name": "Python 3 (ipykernel)",
   "language": "python",
   "name": "python3"
  },
  "language_info": {
   "codemirror_mode": {
    "name": "ipython",
    "version": 3
   },
   "file_extension": ".py",
   "mimetype": "text/x-python",
   "name": "python",
   "nbconvert_exporter": "python",
   "pygments_lexer": "ipython3",
   "version": "3.9.12"
  }
 },
 "nbformat": 4,
 "nbformat_minor": 5
}
