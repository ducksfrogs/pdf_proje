{
 "cells": [
  {
   "cell_type": "code",
   "execution_count": 1,
   "id": "75e4e463",
   "metadata": {},
   "outputs": [],
   "source": [
    "import PyPDF2 as pd"
   ]
  },
  {
   "cell_type": "code",
   "execution_count": 2,
   "id": "a29ce6da",
   "metadata": {},
   "outputs": [],
   "source": [
    "merger = pd.PdfMerger()"
   ]
  },
  {
   "cell_type": "code",
   "execution_count": 3,
   "id": "1b763187",
   "metadata": {},
   "outputs": [
    {
     "ename": "FileNotFoundError",
     "evalue": "[Errno 2] No such file or directory: 'src/dummy.pdf'",
     "output_type": "error",
     "traceback": [
      "\u001b[0;31m---------------------------------------------------------------------------\u001b[0m",
      "\u001b[0;31mFileNotFoundError\u001b[0m                         Traceback (most recent call last)",
      "Input \u001b[0;32mIn [3]\u001b[0m, in \u001b[0;36m<cell line: 1>\u001b[0;34m()\u001b[0m\n\u001b[0;32m----> 1\u001b[0m \u001b[43mmerger\u001b[49m\u001b[38;5;241;43m.\u001b[39;49m\u001b[43mappend\u001b[49m\u001b[43m(\u001b[49m\u001b[38;5;124;43m'\u001b[39;49m\u001b[38;5;124;43msrc/dummy.pdf\u001b[39;49m\u001b[38;5;124;43m'\u001b[39;49m\u001b[43m)\u001b[49m\n",
      "File \u001b[0;32m~/.bin/anaconda3/envs/work/lib/python3.9/site-packages/PyPDF2/_utils.py:389\u001b[0m, in \u001b[0;36mdeprecate_bookmark.<locals>.decoration.<locals>.wrapper\u001b[0;34m(*args, **kwargs)\u001b[0m\n\u001b[1;32m    386\u001b[0m \u001b[38;5;129m@functools\u001b[39m\u001b[38;5;241m.\u001b[39mwraps(func)\n\u001b[1;32m    387\u001b[0m \u001b[38;5;28;01mdef\u001b[39;00m \u001b[38;5;21mwrapper\u001b[39m(\u001b[38;5;241m*\u001b[39margs, \u001b[38;5;241m*\u001b[39m\u001b[38;5;241m*\u001b[39mkwargs):  \u001b[38;5;66;03m# type: ignore\u001b[39;00m\n\u001b[1;32m    388\u001b[0m     rename_kwargs(func\u001b[38;5;241m.\u001b[39m\u001b[38;5;18m__name__\u001b[39m, kwargs, aliases)\n\u001b[0;32m--> 389\u001b[0m     \u001b[38;5;28;01mreturn\u001b[39;00m \u001b[43mfunc\u001b[49m\u001b[43m(\u001b[49m\u001b[38;5;241;43m*\u001b[39;49m\u001b[43margs\u001b[49m\u001b[43m,\u001b[49m\u001b[43m \u001b[49m\u001b[38;5;241;43m*\u001b[39;49m\u001b[38;5;241;43m*\u001b[39;49m\u001b[43mkwargs\u001b[49m\u001b[43m)\u001b[49m\n",
      "File \u001b[0;32m~/.bin/anaconda3/envs/work/lib/python3.9/site-packages/PyPDF2/_merger.py:283\u001b[0m, in \u001b[0;36mPdfMerger.append\u001b[0;34m(self, fileobj, outline_item, pages, import_outline)\u001b[0m\n\u001b[1;32m    253\u001b[0m \u001b[38;5;129m@deprecate_bookmark\u001b[39m(bookmark\u001b[38;5;241m=\u001b[39m\u001b[38;5;124m\"\u001b[39m\u001b[38;5;124moutline_item\u001b[39m\u001b[38;5;124m\"\u001b[39m, import_bookmarks\u001b[38;5;241m=\u001b[39m\u001b[38;5;124m\"\u001b[39m\u001b[38;5;124mimport_outline\u001b[39m\u001b[38;5;124m\"\u001b[39m)\n\u001b[1;32m    254\u001b[0m \u001b[38;5;28;01mdef\u001b[39;00m \u001b[38;5;21mappend\u001b[39m(\n\u001b[1;32m    255\u001b[0m     \u001b[38;5;28mself\u001b[39m,\n\u001b[0;32m   (...)\u001b[0m\n\u001b[1;32m    259\u001b[0m     import_outline: \u001b[38;5;28mbool\u001b[39m \u001b[38;5;241m=\u001b[39m \u001b[38;5;28;01mTrue\u001b[39;00m,\n\u001b[1;32m    260\u001b[0m ) \u001b[38;5;241m-\u001b[39m\u001b[38;5;241m>\u001b[39m \u001b[38;5;28;01mNone\u001b[39;00m:\n\u001b[1;32m    261\u001b[0m     \u001b[38;5;124;03m\"\"\"\u001b[39;00m\n\u001b[1;32m    262\u001b[0m \u001b[38;5;124;03m    Identical to the :meth:`merge()<merge>` method, but assumes you want to\u001b[39;00m\n\u001b[1;32m    263\u001b[0m \u001b[38;5;124;03m    concatenate all pages onto the end of the file instead of specifying a\u001b[39;00m\n\u001b[0;32m   (...)\u001b[0m\n\u001b[1;32m    281\u001b[0m \u001b[38;5;124;03m        'bookmarks') from being imported by specifying this as ``False``.\u001b[39;00m\n\u001b[1;32m    282\u001b[0m \u001b[38;5;124;03m    \"\"\"\u001b[39;00m\n\u001b[0;32m--> 283\u001b[0m     \u001b[38;5;28;43mself\u001b[39;49m\u001b[38;5;241;43m.\u001b[39;49m\u001b[43mmerge\u001b[49m\u001b[43m(\u001b[49m\u001b[38;5;28;43mlen\u001b[39;49m\u001b[43m(\u001b[49m\u001b[38;5;28;43mself\u001b[39;49m\u001b[38;5;241;43m.\u001b[39;49m\u001b[43mpages\u001b[49m\u001b[43m)\u001b[49m\u001b[43m,\u001b[49m\u001b[43m \u001b[49m\u001b[43mfileobj\u001b[49m\u001b[43m,\u001b[49m\u001b[43m \u001b[49m\u001b[43moutline_item\u001b[49m\u001b[43m,\u001b[49m\u001b[43m \u001b[49m\u001b[43mpages\u001b[49m\u001b[43m,\u001b[49m\u001b[43m \u001b[49m\u001b[43mimport_outline\u001b[49m\u001b[43m)\u001b[49m\n",
      "File \u001b[0;32m~/.bin/anaconda3/envs/work/lib/python3.9/site-packages/PyPDF2/_utils.py:389\u001b[0m, in \u001b[0;36mdeprecate_bookmark.<locals>.decoration.<locals>.wrapper\u001b[0;34m(*args, **kwargs)\u001b[0m\n\u001b[1;32m    386\u001b[0m \u001b[38;5;129m@functools\u001b[39m\u001b[38;5;241m.\u001b[39mwraps(func)\n\u001b[1;32m    387\u001b[0m \u001b[38;5;28;01mdef\u001b[39;00m \u001b[38;5;21mwrapper\u001b[39m(\u001b[38;5;241m*\u001b[39margs, \u001b[38;5;241m*\u001b[39m\u001b[38;5;241m*\u001b[39mkwargs):  \u001b[38;5;66;03m# type: ignore\u001b[39;00m\n\u001b[1;32m    388\u001b[0m     rename_kwargs(func\u001b[38;5;241m.\u001b[39m\u001b[38;5;18m__name__\u001b[39m, kwargs, aliases)\n\u001b[0;32m--> 389\u001b[0m     \u001b[38;5;28;01mreturn\u001b[39;00m \u001b[43mfunc\u001b[49m\u001b[43m(\u001b[49m\u001b[38;5;241;43m*\u001b[39;49m\u001b[43margs\u001b[49m\u001b[43m,\u001b[49m\u001b[43m \u001b[49m\u001b[38;5;241;43m*\u001b[39;49m\u001b[38;5;241;43m*\u001b[39;49m\u001b[43mkwargs\u001b[49m\u001b[43m)\u001b[49m\n",
      "File \u001b[0;32m~/.bin/anaconda3/envs/work/lib/python3.9/site-packages/PyPDF2/_merger.py:163\u001b[0m, in \u001b[0;36mPdfMerger.merge\u001b[0;34m(self, position, fileobj, outline_item, pages, import_outline)\u001b[0m\n\u001b[1;32m    130\u001b[0m \u001b[38;5;129m@deprecate_bookmark\u001b[39m(bookmark\u001b[38;5;241m=\u001b[39m\u001b[38;5;124m\"\u001b[39m\u001b[38;5;124moutline_item\u001b[39m\u001b[38;5;124m\"\u001b[39m, import_bookmarks\u001b[38;5;241m=\u001b[39m\u001b[38;5;124m\"\u001b[39m\u001b[38;5;124mimport_outline\u001b[39m\u001b[38;5;124m\"\u001b[39m)\n\u001b[1;32m    131\u001b[0m \u001b[38;5;28;01mdef\u001b[39;00m \u001b[38;5;21mmerge\u001b[39m(\n\u001b[1;32m    132\u001b[0m     \u001b[38;5;28mself\u001b[39m,\n\u001b[0;32m   (...)\u001b[0m\n\u001b[1;32m    137\u001b[0m     import_outline: \u001b[38;5;28mbool\u001b[39m \u001b[38;5;241m=\u001b[39m \u001b[38;5;28;01mTrue\u001b[39;00m,\n\u001b[1;32m    138\u001b[0m ) \u001b[38;5;241m-\u001b[39m\u001b[38;5;241m>\u001b[39m \u001b[38;5;28;01mNone\u001b[39;00m:\n\u001b[1;32m    139\u001b[0m     \u001b[38;5;124;03m\"\"\"\u001b[39;00m\n\u001b[1;32m    140\u001b[0m \u001b[38;5;124;03m    Merge the pages from the given file into the output file at the\u001b[39;00m\n\u001b[1;32m    141\u001b[0m \u001b[38;5;124;03m    specified page number.\u001b[39;00m\n\u001b[0;32m   (...)\u001b[0m\n\u001b[1;32m    161\u001b[0m \u001b[38;5;124;03m        'bookmarks') from being imported by specifying this as ``False``.\u001b[39;00m\n\u001b[1;32m    162\u001b[0m \u001b[38;5;124;03m    \"\"\"\u001b[39;00m\n\u001b[0;32m--> 163\u001b[0m     stream, encryption_obj \u001b[38;5;241m=\u001b[39m \u001b[38;5;28;43mself\u001b[39;49m\u001b[38;5;241;43m.\u001b[39;49m\u001b[43m_create_stream\u001b[49m\u001b[43m(\u001b[49m\u001b[43mfileobj\u001b[49m\u001b[43m)\u001b[49m\n\u001b[1;32m    165\u001b[0m     \u001b[38;5;66;03m# Create a new PdfReader instance using the stream\u001b[39;00m\n\u001b[1;32m    166\u001b[0m     \u001b[38;5;66;03m# (either file or BytesIO or StringIO) created above\u001b[39;00m\n\u001b[1;32m    167\u001b[0m     reader \u001b[38;5;241m=\u001b[39m PdfReader(stream, strict\u001b[38;5;241m=\u001b[39m\u001b[38;5;28mself\u001b[39m\u001b[38;5;241m.\u001b[39mstrict)  \u001b[38;5;66;03m# type: ignore[arg-type]\u001b[39;00m\n",
      "File \u001b[0;32m~/.bin/anaconda3/envs/work/lib/python3.9/site-packages/PyPDF2/_merger.py:230\u001b[0m, in \u001b[0;36mPdfMerger._create_stream\u001b[0;34m(self, fileobj)\u001b[0m\n\u001b[1;32m    228\u001b[0m stream: IOBase\n\u001b[1;32m    229\u001b[0m \u001b[38;5;28;01mif\u001b[39;00m \u001b[38;5;28misinstance\u001b[39m(fileobj, (\u001b[38;5;28mstr\u001b[39m, Path)):\n\u001b[0;32m--> 230\u001b[0m     stream \u001b[38;5;241m=\u001b[39m \u001b[43mFileIO\u001b[49m\u001b[43m(\u001b[49m\u001b[43mfileobj\u001b[49m\u001b[43m,\u001b[49m\u001b[43m \u001b[49m\u001b[38;5;124;43m\"\u001b[39;49m\u001b[38;5;124;43mrb\u001b[39;49m\u001b[38;5;124;43m\"\u001b[39;49m\u001b[43m)\u001b[49m\n\u001b[1;32m    231\u001b[0m \u001b[38;5;28;01melif\u001b[39;00m \u001b[38;5;28misinstance\u001b[39m(fileobj, PdfReader):\n\u001b[1;32m    232\u001b[0m     \u001b[38;5;28;01mif\u001b[39;00m fileobj\u001b[38;5;241m.\u001b[39m_encryption:\n",
      "\u001b[0;31mFileNotFoundError\u001b[0m: [Errno 2] No such file or directory: 'src/dummy.pdf'"
     ]
    }
   ],
   "source": [
    "merger.ap\n"
   ]
  },
  {
   "cell_type": "code",
   "execution_count": null,
   "id": "93c195c0-11e2-4fd6-97ef-4247e2b503f7",
   "metadata": {},
   "outputs": [],
   "source": [
    "merger.append('src/dummy1.pdf')\n"
   ]
  },
  {
   "cell_type": "code",
   "execution_count": null,
   "id": "583ca4eb-9915-4a5d-aa97-a0869ac56b8d",
   "metadata": {},
   "outputs": [],
   "source": [
    "merger.write('dist/test.pdf')"
   ]
  },
  {
   "cell_type": "code",
   "execution_count": null,
   "id": "0d04887d-c4bc-4f4a-99cd-e31f3140220c",
   "metadata": {},
   "outputs": [],
   "source": [
    "merger.close()"
   ]
  },
  {
   "cell_type": "code",
   "execution_count": null,
   "id": "9652b1cf-9f29-47e4-bab6-d39050e4889d",
   "metadata": {},
   "outputs": [],
   "source": [
    "for i in range(2):\n",
    "    merger = pd.PdfMerger()\n",
    "    merger.append('src/dummy1.pdf')\n",
    "    merger.append('src/dummy2.pdf')\n",
    "    merger.write('dist/test2.pdf')\n",
    "    merger.close()"
   ]
  },
  {
   "cell_type": "code",
   "execution_count": 4,
   "id": "fdb13f40-c6f7-4807-af0e-78fb0b783b95",
   "metadata": {},
   "outputs": [],
   "source": [
    "import glob"
   ]
  },
  {
   "cell_type": "code",
   "execution_count": 2,
   "id": "fe7a4e20-52d7-4bbd-bcde-273e7edbae52",
   "metadata": {},
   "outputs": [],
   "source": [
    "arr = glob.glob('src/*.pdf')"
   ]
  },
  {
   "cell_type": "code",
   "execution_count": 3,
   "id": "0011b325",
   "metadata": {},
   "outputs": [
    {
     "data": {
      "text/plain": [
       "['src/dummy.pdf',\n",
       " 'src/dummy2.pdf',\n",
       " 'src/dummy5.pdf',\n",
       " 'src/dummy4.pdf',\n",
       " 'src/dummy3.pdf',\n",
       " 'src/dummy6.pdf',\n",
       " 'src/dummy1.pdf']"
      ]
     },
     "execution_count": 3,
     "metadata": {},
     "output_type": "execute_result"
    }
   ],
   "source": [
    "arr"
   ]
  },
  {
   "cell_type": "code",
   "execution_count": 6,
   "id": "1acbe182",
   "metadata": {},
   "outputs": [],
   "source": [
    "it = iter(arr)"
   ]
  },
  {
   "cell_type": "code",
   "execution_count": 7,
   "id": "d6cf391f",
   "metadata": {},
   "outputs": [
    {
     "name": "stdout",
     "output_type": "stream",
     "text": [
      "src/dummy.pdf src/dummy2.pdf\n",
      "src/dummy5.pdf src/dummy4.pdf\n",
      "src/dummy3.pdf src/dummy6.pdf\n"
     ]
    }
   ],
   "source": [
    "for i, j in zip(it, it):\n",
    "    print(i, j)"
   ]
  },
  {
   "cell_type": "code",
   "execution_count": null,
   "id": "bf49f1e7",
   "metadata": {},
   "outputs": [],
   "source": []
  }
 ],
 "metadata": {
  "kernelspec": {
   "display_name": "Python 3 (ipykernel)",
   "language": "python",
   "name": "python3"
  },
  "language_info": {
   "codemirror_mode": {
    "name": "ipython",
    "version": 3
   },
   "file_extension": ".py",
   "mimetype": "text/x-python",
   "name": "python",
   "nbconvert_exporter": "python",
   "pygments_lexer": "ipython3",
   "version": "3.9.12"
  }
 },
 "nbformat": 4,
 "nbformat_minor": 5
}
