{
 "cells": [
  {
   "cell_type": "code",
   "execution_count": 2,
   "id": "75e4e463",
   "metadata": {},
   "outputs": [],
   "source": [
    "import PyPDF2 as pd"
   ]
  },
  {
   "cell_type": "code",
   "execution_count": 3,
   "id": "a29ce6da",
   "metadata": {},
   "outputs": [],
   "source": [
    "merger = pd.PdfMerger()"
   ]
  },
  {
   "cell_type": "code",
   "execution_count": 5,
   "id": "1b763187",
   "metadata": {},
   "outputs": [],
   "source": [
    "merger.append('../src/dummy.pdf')\n"
   ]
  },
  {
   "cell_type": "code",
   "execution_count": 6,
   "id": "93c195c0-11e2-4fd6-97ef-4247e2b503f7",
   "metadata": {},
   "outputs": [],
   "source": [
    "merger.append('../src/dummy1.pdf')\n"
   ]
  },
  {
   "cell_type": "code",
   "execution_count": 7,
   "id": "583ca4eb-9915-4a5d-aa97-a0869ac56b8d",
   "metadata": {},
   "outputs": [],
   "source": [
    "merger.write('../dist/test.pdf')"
   ]
  },
  {
   "cell_type": "code",
   "execution_count": 8,
   "id": "0d04887d-c4bc-4f4a-99cd-e31f3140220c",
   "metadata": {},
   "outputs": [],
   "source": [
    "merger.close()"
   ]
  },
  {
   "cell_type": "code",
   "execution_count": 9,
   "id": "9652b1cf-9f29-47e4-bab6-d39050e4889d",
   "metadata": {},
   "outputs": [],
   "source": [
    "for i in range(2):\n",
    "    merger = pd.PdfMerger()\n",
    "    merger.append('../src/dummy1.pdf')\n",
    "    merger.append('../src/dummy2.pdf')\n",
    "    merger.write('../dist/test2.pdf')\n",
    "    merger.close()"
   ]
  },
  {
   "cell_type": "code",
   "execution_count": 15,
   "id": "fdb13f40-c6f7-4807-af0e-78fb0b783b95",
   "metadata": {},
   "outputs": [],
   "source": [
    "import glob"
   ]
  },
  {
   "cell_type": "code",
   "execution_count": 18,
   "id": "fe7a4e20-52d7-4bbd-bcde-273e7edbae52",
   "metadata": {},
   "outputs": [],
   "source": [
    "arr = glob.glob('../src/*.pdf')"
   ]
  },
  {
   "cell_type": "code",
   "execution_count": 19,
   "id": "0011b325",
   "metadata": {},
   "outputs": [
    {
     "data": {
      "text/plain": [
       "['../src/dummy4.pdf',\n",
       " '../src/dummy6.pdf',\n",
       " '../src/dummy2.pdf',\n",
       " '../src/dummy7.pdf',\n",
       " '../src/dummy5.pdf',\n",
       " '../src/dummy.pdf',\n",
       " '../src/dummy3.pdf',\n",
       " '../src/dummy1.pdf']"
      ]
     },
     "execution_count": 19,
     "metadata": {},
     "output_type": "execute_result"
    }
   ],
   "source": [
    "arr"
   ]
  },
  {
   "cell_type": "code",
   "execution_count": 20,
   "id": "1acbe182",
   "metadata": {},
   "outputs": [],
   "source": [
    "it = iter(arr)"
   ]
  },
  {
   "cell_type": "code",
   "execution_count": 21,
   "id": "d6cf391f",
   "metadata": {},
   "outputs": [
    {
     "name": "stdout",
     "output_type": "stream",
     "text": [
      "../src/dummy4.pdf ../src/dummy6.pdf\n",
      "../src/dummy2.pdf ../src/dummy7.pdf\n",
      "../src/dummy5.pdf ../src/dummy.pdf\n",
      "../src/dummy3.pdf ../src/dummy1.pdf\n"
     ]
    }
   ],
   "source": [
    "for i, j in zip(it, it):\n",
    "    print(i, j)"
   ]
  },
  {
   "cell_type": "code",
   "execution_count": 22,
   "id": "bf49f1e7",
   "metadata": {},
   "outputs": [
    {
     "ename": "ValueError",
     "evalue": "Unknown format code 'd' for object of type 'str'",
     "output_type": "error",
     "traceback": [
      "\u001b[0;31m---------------------------------------------------------------------------\u001b[0m",
      "\u001b[0;31mValueError\u001b[0m                                Traceback (most recent call last)",
      "Input \u001b[0;32mIn [22]\u001b[0m, in \u001b[0;36m<cell line: 1>\u001b[0;34m()\u001b[0m\n\u001b[1;32m      1\u001b[0m \u001b[38;5;28;01mfor\u001b[39;00m i \u001b[38;5;129;01min\u001b[39;00m arr:\n\u001b[0;32m----> 2\u001b[0m     zero_i \u001b[38;5;241m=\u001b[39m \u001b[38;5;124;43m\"\u001b[39;49m\u001b[38;5;132;43;01m{0:03d}\u001b[39;49;00m\u001b[38;5;124;43m\"\u001b[39;49m\u001b[38;5;241;43m.\u001b[39;49m\u001b[43mformat\u001b[49m\u001b[43m(\u001b[49m\u001b[43mi\u001b[49m\u001b[43m)\u001b[49m\n\u001b[1;32m      3\u001b[0m     \u001b[38;5;28mprint\u001b[39m(zero_i)\n",
      "\u001b[0;31mValueError\u001b[0m: Unknown format code 'd' for object of type 'str'"
     ]
    }
   ],
   "source": [
    "for i in arr:\n",
    "    zero_i = \"{0:03d}\".format(i)\n",
    "    print(zero_i)"
   ]
  },
  {
   "cell_type": "code",
   "execution_count": 28,
   "id": "a81427de",
   "metadata": {},
   "outputs": [
    {
     "name": "stdout",
     "output_type": "stream",
     "text": [
      "000\n",
      "001\n",
      "002\n"
     ]
    }
   ],
   "source": [
    "for i in range(3):\n",
    "    zero_i = \"{0:03d}\".format(i)\n",
    "    print(zero_i)"
   ]
  },
  {
   "cell_type": "code",
   "execution_count": 25,
   "id": "fc9c17b7",
   "metadata": {},
   "outputs": [
    {
     "name": "stdout",
     "output_type": "stream",
     "text": [
      "0 ../src/dummy4.pdf\n",
      "1 ../src/dummy6.pdf\n",
      "2 ../src/dummy2.pdf\n",
      "3 ../src/dummy7.pdf\n",
      "4 ../src/dummy5.pdf\n",
      "5 ../src/dummy.pdf\n",
      "6 ../src/dummy3.pdf\n",
      "7 ../src/dummy1.pdf\n"
     ]
    }
   ],
   "source": [
    "for i, j in zip(range(len(arr)), arr):\n",
    "    print(i, j)"
   ]
  },
  {
   "cell_type": "code",
   "execution_count": 27,
   "id": "aa72e30c",
   "metadata": {},
   "outputs": [
    {
     "name": "stdout",
     "output_type": "stream",
     "text": [
      "../src/dummy4.pdf\n",
      "../src/dummy6.pdf\n",
      "../src/dummy2.pdf\n",
      "../src/dummy7.pdf\n",
      "../src/dummy5.pdf\n",
      "../src/dummy.pdf\n",
      "../src/dummy3.pdf\n",
      "../src/dummy1.pdf\n"
     ]
    }
   ],
   "source": [
    "for i in arr:\n",
    "    print(i)"
   ]
  },
  {
   "cell_type": "code",
   "execution_count": null,
   "id": "91fe2e15",
   "metadata": {},
   "outputs": [],
   "source": []
  }
 ],
 "metadata": {
  "kernelspec": {
   "display_name": "Python 3 (ipykernel)",
   "language": "python",
   "name": "python3"
  },
  "language_info": {
   "codemirror_mode": {
    "name": "ipython",
    "version": 3
   },
   "file_extension": ".py",
   "mimetype": "text/x-python",
   "name": "python",
   "nbconvert_exporter": "python",
   "pygments_lexer": "ipython3",
   "version": "3.9.12"
  }
 },
 "nbformat": 4,
 "nbformat_minor": 5
}
