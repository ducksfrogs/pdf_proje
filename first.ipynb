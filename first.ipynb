{
 "cells": [
  {
   "cell_type": "code",
   "execution_count": 1,
   "id": "75e4e463",
   "metadata": {},
   "outputs": [],
   "source": [
    "import PyPDF2 as pd"
   ]
  },
  {
   "cell_type": "code",
   "execution_count": 9,
   "id": "a29ce6da",
   "metadata": {},
   "outputs": [],
   "source": [
    "merger = pd.PdfMerger()"
   ]
  },
  {
   "cell_type": "code",
   "execution_count": 10,
   "id": "1b763187",
   "metadata": {},
   "outputs": [],
   "source": [
    "merger.append('src/dummy.pdf')\n"
   ]
  },
  {
   "cell_type": "code",
   "execution_count": 11,
   "id": "93c195c0-11e2-4fd6-97ef-4247e2b503f7",
   "metadata": {},
   "outputs": [],
   "source": [
    "merger.append('src/dummy1.pdf')\n"
   ]
  },
  {
   "cell_type": "code",
   "execution_count": 12,
   "id": "583ca4eb-9915-4a5d-aa97-a0869ac56b8d",
   "metadata": {},
   "outputs": [],
   "source": [
    "merger.write('dist/test.pdf')"
   ]
  },
  {
   "cell_type": "code",
   "execution_count": 13,
   "id": "0d04887d-c4bc-4f4a-99cd-e31f3140220c",
   "metadata": {},
   "outputs": [],
   "source": [
    "merger.close()"
   ]
  },
  {
   "cell_type": "code",
   "execution_count": null,
   "id": "9652b1cf-9f29-47e4-bab6-d39050e4889d",
   "metadata": {},
   "outputs": [],
   "source": []
  }
 ],
 "metadata": {
  "kernelspec": {
   "display_name": "Python 3 (ipykernel)",
   "language": "python",
   "name": "python3"
  },
  "language_info": {
   "codemirror_mode": {
    "name": "ipython",
    "version": 3
   },
   "file_extension": ".py",
   "mimetype": "text/x-python",
   "name": "python",
   "nbconvert_exporter": "python",
   "pygments_lexer": "ipython3",
   "version": "3.9.12"
  }
 },
 "nbformat": 4,
 "nbformat_minor": 5
}
