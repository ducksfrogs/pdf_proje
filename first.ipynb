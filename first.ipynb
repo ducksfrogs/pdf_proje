{
 "cells": [
  {
   "cell_type": "code",
   "execution_count": 3,
   "id": "75e4e463",
   "metadata": {},
   "outputs": [],
   "source": [
    "import PyPDF2 as pd"
   ]
  },
  {
   "cell_type": "code",
   "execution_count": 4,
   "id": "a29ce6da",
   "metadata": {},
   "outputs": [],
   "source": [
    "mager = pd.PdfMerger()"
   ]
  },
  {
   "cell_type": "code",
   "execution_count": null,
   "id": "1b763187",
   "metadata": {},
   "outputs": [],
   "source": [
    "mager.append('src/dummy')"
   ]
  }
 ],
 "metadata": {
  "kernelspec": {
   "display_name": "Python 3 (ipykernel)",
   "language": "python",
   "name": "python3"
  },
  "language_info": {
   "codemirror_mode": {
    "name": "ipython",
    "version": 3
   },
   "file_extension": ".py",
   "mimetype": "text/x-python",
   "name": "python",
   "nbconvert_exporter": "python",
   "pygments_lexer": "ipython3",
   "version": "3.9.12"
  }
 },
 "nbformat": 4,
 "nbformat_minor": 5
}
