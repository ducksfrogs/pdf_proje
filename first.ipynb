{
 "cells": [
  {
   "cell_type": "code",
   "execution_count": 1,
   "id": "75e4e463",
   "metadata": {},
   "outputs": [],
   "source": [
    "import PyPDF2 as pd"
   ]
  },
  {
   "cell_type": "code",
   "execution_count": 2,
   "id": "a29ce6da",
   "metadata": {},
   "outputs": [],
   "source": [
    "merger = pd.PdfMerger()"
   ]
  },
  {
   "cell_type": "code",
   "execution_count": 3,
   "id": "1b763187",
   "metadata": {},
   "outputs": [],
   "source": [
    "merger.append('src/dummy.pdf')\n"
   ]
  },
  {
   "cell_type": "code",
   "execution_count": 4,
   "id": "93c195c0-11e2-4fd6-97ef-4247e2b503f7",
   "metadata": {},
   "outputs": [],
   "source": [
    "merger.append('src/dummy1.pdf')\n"
   ]
  },
  {
   "cell_type": "code",
   "execution_count": 5,
   "id": "583ca4eb-9915-4a5d-aa97-a0869ac56b8d",
   "metadata": {},
   "outputs": [],
   "source": [
    "merger.write('dist/test.pdf')"
   ]
  },
  {
   "cell_type": "code",
   "execution_count": 6,
   "id": "0d04887d-c4bc-4f4a-99cd-e31f3140220c",
   "metadata": {},
   "outputs": [],
   "source": [
    "merger.close()"
   ]
  },
  {
   "cell_type": "code",
   "execution_count": 9,
   "id": "9652b1cf-9f29-47e4-bab6-d39050e4889d",
   "metadata": {},
   "outputs": [],
   "source": [
    "for i in range(2):\n",
    "    merger = pd.PdfMerger()\n",
    "    merger.append('src/dummy1.pdf')\n",
    "    merger.append('src/dummy2.pdf')\n",
    "    merger.write('dist/test2.pdf')\n",
    "    merger.close()"
   ]
  },
  {
   "cell_type": "code",
   "execution_count": null,
   "id": "fdb13f40-c6f7-4807-af0e-78fb0b783b95",
   "metadata": {},
   "outputs": [],
   "source": []
  },
  {
   "cell_type": "code",
   "execution_count": null,
   "id": "fe7a4e20-52d7-4bbd-bcde-273e7edbae52",
   "metadata": {},
   "outputs": [],
   "source": []
  }
 ],
 "metadata": {
  "kernelspec": {
   "display_name": "Python 3",
   "language": "python",
   "name": "python3"
  },
  "language_info": {
   "codemirror_mode": {
    "name": "ipython",
    "version": 3
   },
   "file_extension": ".py",
   "mimetype": "text/x-python",
   "name": "python",
   "nbconvert_exporter": "python",
   "pygments_lexer": "ipython3",
   "version": "3.9.4"
  }
 },
 "nbformat": 4,
 "nbformat_minor": 5
}
